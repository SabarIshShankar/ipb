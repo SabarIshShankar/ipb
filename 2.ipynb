{
 "cells": [
  {
   "cell_type": "code",
   "execution_count": 50,
   "id": "66bc734b",
   "metadata": {},
   "outputs": [
    {
     "data": {
      "text/plain": [
       "'español'"
      ]
     },
     "execution_count": 50,
     "metadata": {},
     "output_type": "execute_result"
    }
   ],
   "source": [
    "#unicodetransformationformat\n",
    "val = 'español'\n",
    "val"
   ]
  },
  {
   "cell_type": "code",
   "execution_count": 51,
   "id": "3b19084c",
   "metadata": {},
   "outputs": [
    {
     "data": {
      "text/plain": [
       "b'espa\\xc3\\xb1ol'"
      ]
     },
     "execution_count": 51,
     "metadata": {},
     "output_type": "execute_result"
    }
   ],
   "source": [
    "val_utf8 = val.encode('utf-8')\n",
    "val_utf8"
   ]
  },
  {
   "cell_type": "code",
   "execution_count": 52,
   "id": "7f7bf995",
   "metadata": {},
   "outputs": [
    {
     "data": {
      "text/plain": [
       "bytes"
      ]
     },
     "execution_count": 52,
     "metadata": {},
     "output_type": "execute_result"
    }
   ],
   "source": [
    "type(val_utf8)"
   ]
  },
  {
   "cell_type": "code",
   "execution_count": 54,
   "id": "b4aa833d",
   "metadata": {},
   "outputs": [
    {
     "data": {
      "text/plain": [
       "'español'"
      ]
     },
     "execution_count": 54,
     "metadata": {},
     "output_type": "execute_result"
    }
   ],
   "source": [
    "val_utf8.decode('utf-8')"
   ]
  },
  {
   "cell_type": "code",
   "execution_count": 55,
   "id": "ee8d3b96",
   "metadata": {},
   "outputs": [
    {
     "data": {
      "text/plain": [
       "b'\\xff\\xfee\\x00s\\x00p\\x00a\\x00\\xf1\\x00o\\x00l\\x00'"
      ]
     },
     "execution_count": 55,
     "metadata": {},
     "output_type": "execute_result"
    }
   ],
   "source": [
    "val.encode('utf-16')"
   ]
  },
  {
   "cell_type": "code",
   "execution_count": 56,
   "id": "1036a8b9",
   "metadata": {},
   "outputs": [
    {
     "data": {
      "text/plain": [
       "b'e\\x00s\\x00p\\x00a\\x00\\xf1\\x00o\\x00l\\x00'"
      ]
     },
     "execution_count": 56,
     "metadata": {},
     "output_type": "execute_result"
    }
   ],
   "source": [
    "val.encode('utf-16le')"
   ]
  },
  {
   "cell_type": "code",
   "execution_count": 57,
   "id": "7f98c91f",
   "metadata": {},
   "outputs": [
    {
     "data": {
      "text/plain": [
       "b'string bytes'"
      ]
     },
     "execution_count": 57,
     "metadata": {},
     "output_type": "execute_result"
    }
   ],
   "source": [
    "bytes_ = b'string bytes'\n",
    "bytes_"
   ]
  },
  {
   "cell_type": "code",
   "execution_count": 59,
   "id": "7f2857be",
   "metadata": {},
   "outputs": [],
   "source": [
    "decoded = bytes_.decode('utf-8')"
   ]
  },
  {
   "cell_type": "code",
   "execution_count": 60,
   "id": "8d3b8b37",
   "metadata": {},
   "outputs": [
    {
     "data": {
      "text/plain": [
       "'string bytes'"
      ]
     },
     "execution_count": 60,
     "metadata": {},
     "output_type": "execute_result"
    }
   ],
   "source": [
    "decoded"
   ]
  },
  {
   "cell_type": "code",
   "execution_count": 62,
   "id": "108545e7",
   "metadata": {},
   "outputs": [
    {
     "data": {
      "text/plain": [
       "float"
      ]
     },
     "execution_count": 62,
     "metadata": {},
     "output_type": "execute_result"
    }
   ],
   "source": [
    "pi = '3.14159'\n",
    "floatval = float(pi)\n",
    "type(floatval)"
   ]
  },
  {
   "cell_type": "code",
   "execution_count": 63,
   "id": "394ae954",
   "metadata": {},
   "outputs": [
    {
     "data": {
      "text/plain": [
       "3"
      ]
     },
     "execution_count": 63,
     "metadata": {},
     "output_type": "execute_result"
    }
   ],
   "source": [
    "int(floatval)"
   ]
  },
  {
   "cell_type": "code",
   "execution_count": 66,
   "id": "30b74934",
   "metadata": {},
   "outputs": [
    {
     "data": {
      "text/plain": [
       "datetime.datetime(2021, 8, 29, 20, 31, 43)"
      ]
     },
     "execution_count": 66,
     "metadata": {},
     "output_type": "execute_result"
    }
   ],
   "source": [
    "from datetime import datetime, date, time\n",
    "date = datetime(2021, 8, 29, 20, 31, 43)\n",
    "date"
   ]
  },
  {
   "cell_type": "code",
   "execution_count": 68,
   "id": "5ac8bcda",
   "metadata": {},
   "outputs": [
    {
     "data": {
      "text/plain": [
       "datetime.datetime(2021, 8, 31, 14, 49, 4, 776478)"
      ]
     },
     "execution_count": 68,
     "metadata": {},
     "output_type": "execute_result"
    }
   ],
   "source": [
    "datetime.now()"
   ]
  },
  {
   "cell_type": "code",
   "execution_count": 72,
   "id": "40a1e879",
   "metadata": {},
   "outputs": [
    {
     "data": {
      "text/plain": [
       "'08/29/2021'"
      ]
     },
     "execution_count": 72,
     "metadata": {},
     "output_type": "execute_result"
    }
   ],
   "source": [
    "date.date()\n",
    "date.strftime('%m/%d/%Y')"
   ]
  },
  {
   "cell_type": "code",
   "execution_count": 75,
   "id": "2ac3e0c3",
   "metadata": {},
   "outputs": [
    {
     "data": {
      "text/plain": [
       "datetime.datetime(2021, 8, 29, 20, 0)"
      ]
     },
     "execution_count": 75,
     "metadata": {},
     "output_type": "execute_result"
    }
   ],
   "source": [
    "dt = date\n",
    "dt.replace(minute=0, second=0)\n"
   ]
  },
  {
   "cell_type": "code",
   "execution_count": 78,
   "id": "d9016ea1",
   "metadata": {},
   "outputs": [
    {
     "data": {
      "text/plain": [
       "datetime.timedelta(days=3574, seconds=79303)"
      ]
     },
     "execution_count": 78,
     "metadata": {},
     "output_type": "execute_result"
    }
   ],
   "source": [
    "dt2 = datetime(2011, 11,15,22,30)\n",
    "delta = dt - dt2\n",
    "delta"
   ]
  }
 ],
 "metadata": {
  "kernelspec": {
   "display_name": "Python 3 (ipykernel)",
   "language": "python",
   "name": "python3"
  },
  "language_info": {
   "codemirror_mode": {
    "name": "ipython",
    "version": 3
   },
   "file_extension": ".py",
   "mimetype": "text/x-python",
   "name": "python",
   "nbconvert_exporter": "python",
   "pygments_lexer": "ipython3",
   "version": "3.9.6"
  }
 },
 "nbformat": 4,
 "nbformat_minor": 5
}
